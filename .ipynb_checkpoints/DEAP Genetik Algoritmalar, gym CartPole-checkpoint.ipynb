{
 "cells": [
  {
   "cell_type": "code",
   "execution_count": 1,
   "metadata": {},
   "outputs": [],
   "source": [
    "import random, gym\n",
    "import numpy as np\n",
    "from deap import algorithms, base, creator, tools"
   ]
  },
  {
   "cell_type": "markdown",
   "metadata": {},
   "source": [
    "## Simülasyon ortamı"
   ]
  },
  {
   "cell_type": "code",
   "execution_count": 2,
   "metadata": {},
   "outputs": [],
   "source": [
    "env = gym.make(\"CartPole-v1\")\n",
    "observation_space_dim = env.observation_space.shape[0]\n",
    "action_space_dim = env.action_space.n"
   ]
  },
  {
   "cell_type": "markdown",
   "metadata": {},
   "source": [
    "#### Tekrarlanabilirlik için seed ayarlanır"
   ]
  },
  {
   "cell_type": "code",
   "execution_count": 3,
   "metadata": {},
   "outputs": [
    {
     "data": {
      "text/plain": [
       "[32]"
      ]
     },
     "execution_count": 3,
     "metadata": {},
     "output_type": "execute_result"
    }
   ],
   "source": [
    "SEED_VALUE = 32\n",
    "random.seed(SEED_VALUE)\n",
    "np.random.seed(SEED_VALUE)\n",
    "env.seed(SEED_VALUE)"
   ]
  },
  {
   "cell_type": "markdown",
   "metadata": {},
   "source": [
    "#### Simülasyonu çalıştırmak için ortak fonksiyon"
   ]
  },
  {
   "cell_type": "code",
   "execution_count": 4,
   "metadata": {},
   "outputs": [],
   "source": [
    "def run_env(act_fn, n_episode=1, render=False):\n",
    "\t# Episode döngüsü\n",
    "\ttotalRewards = 0\n",
    "\tfor episode in range(n_episode):\n",
    "\t\tstate = env.reset()\n",
    "\t\tdone = False\n",
    "\n",
    "\t\t# Timestep döngüsü\n",
    "\t\twhile not done:\n",
    "\t\t\tif render: env.render()\n",
    "\n",
    "\t\t\t# act_fn adlı fonksiyon parametreyi çağırarak aksiyonu al\n",
    "\t\t\taction = act_fn(state)\n",
    "\t\t\tnext_state, reward, done, info = env.step(action)\n",
    "\n",
    "\t\t\ttotalRewards += reward\n",
    "\t\t\tstate = next_state\n",
    "\treturn totalRewards"
   ]
  },
  {
   "cell_type": "markdown",
   "metadata": {},
   "source": [
    "## Yapay Sinir Ağı"
   ]
  },
  {
   "cell_type": "markdown",
   "metadata": {},
   "source": [
    "#### Ağırlıkların parametre sayısı"
   ]
  },
  {
   "cell_type": "code",
   "execution_count": 5,
   "metadata": {},
   "outputs": [],
   "source": [
    "nn_hidden_unit = 8\n",
    "w1_ndim = (observation_space_dim*nn_hidden_unit)\n",
    "w2_ndim = (nn_hidden_unit*action_space_dim)"
   ]
  },
  {
   "cell_type": "markdown",
   "metadata": {},
   "source": [
    "#### Verilen bireyin genotipini, yapay sinir ağı parametreleri olarak kullanarak state vektörünü ağa feed-forward eder"
   ]
  },
  {
   "cell_type": "code",
   "execution_count": 6,
   "metadata": {},
   "outputs": [],
   "source": [
    "def nn_forward(individual, state):\n",
    "\t# State'in 2 seviyeli array olduğundan emin ol: [?, observation_space_dim]\n",
    "\tif len(state.shape) == 1: state = np.array([state])\n",
    "\tassert len(state.shape) == 2\n",
    "\n",
    "\t# Yapay sinir ağı parametrelerini genotip olan 1D vektörden çıkar\n",
    "\tindividual = np.array(individual)\n",
    "\tw1 = individual[:w1_ndim]\n",
    "\tb1 = individual[w1_ndim]\n",
    "\tw2 = individual[w1_ndim+1:-1]\n",
    "\tb2 = individual[-1]\n",
    "\n",
    "\t# Ağırlıkları matris çarpımı için yeniden şekillendir\n",
    "\tw1 = np.reshape(w1, (observation_space_dim, nn_hidden_unit))\n",
    "\tw2 = np.reshape(w2, (nn_hidden_unit, action_space_dim))\n",
    "\n",
    "\t# Sigmoid fonksiyonu\n",
    "\tsigmoid = lambda x: (1 / (1 + np.exp(-x)))\n",
    "\n",
    "\t# Feed-forward\n",
    "\th1 = sigmoid(np.dot(state, w1) + b1)\n",
    "\toutput = sigmoid(np.dot(h1, w2) + b2)\n",
    "\treturn np.argmax(output)"
   ]
  },
  {
   "cell_type": "markdown",
   "metadata": {},
   "source": [
    "## Genetik Algoritmalar"
   ]
  },
  {
   "cell_type": "markdown",
   "metadata": {},
   "source": [
    "### Hiperparametreler"
   ]
  },
  {
   "cell_type": "code",
   "execution_count": 7,
   "metadata": {},
   "outputs": [],
   "source": [
    "# Her bireyin gen uzunluğu (ağın parametre sayısı)\n",
    "n_features = (w1_ndim + w2_ndim + 2)\n",
    "\n",
    "# Simüle edilecek nesil sayısı\n",
    "n_generation = 25\n",
    "\n",
    "# Popülasyon boyutu (birey sayısı)\n",
    "n_population = 32\n",
    "\n",
    "# Seleksiyon turnuvasındaki birey sayısı\n",
    "selectionTournamentSize = 3\n",
    "\n",
    "# Çaprazlama ve mutasyon olasılıkları\n",
    "crossingoverProbability = 0.50\n",
    "mutationProbability = 0.10"
   ]
  },
  {
   "cell_type": "code",
   "execution_count": 8,
   "metadata": {},
   "outputs": [],
   "source": [
    "# Uygunluk ve Birey sınıflarını oluştur\n",
    "creator.create(\"Fitness\", base.Fitness, weights=(1.0,))\n",
    "creator.create(\"Individual\", list, fitness=creator.Fitness)\n",
    "\n",
    "# Bireylerin genotiplerini ve popülasyonun basitçe birey listesi olduğunu tanımla\n",
    "toolbox = base.Toolbox()\n",
    "toolbox.register(\"attr_weights_n_biases\", random.gauss, 0, 1)\n",
    "toolbox.register(\"individual\", tools.initRepeat, creator.Individual, toolbox.attr_weights_n_biases, n_features)\n",
    "toolbox.register(\"population\", tools.initRepeat, list, toolbox.individual)"
   ]
  },
  {
   "cell_type": "markdown",
   "metadata": {},
   "source": [
    "#### Uygunluk fonksiyonunu tanımla"
   ]
  },
  {
   "cell_type": "code",
   "execution_count": 9,
   "metadata": {},
   "outputs": [],
   "source": [
    "def calculateFitness(individual):\n",
    "\tindividualEpisodeRewards = run_env(\n",
    "\t\t# Aksiyon fonksiyonumuz, bireyin genotipini kullanarak yapay sinir ağını çalıştırır\n",
    "\t\tact_fn=(lambda state: nn_forward(individual, state)),\n",
    "\t\t# Her uygunluk hesabında ortamı 3 episode çalıştır\n",
    "\t\tn_episode=3\n",
    "\t)\n",
    "\t# tuple tipinde çevirmeli\n",
    "\treturn (individualEpisodeRewards, )"
   ]
  },
  {
   "cell_type": "code",
   "execution_count": 10,
   "metadata": {},
   "outputs": [],
   "source": [
    "# Uygunluk fonksiyonunu kaydet\n",
    "toolbox.register(\"evaluate\", calculateFitness)\n",
    "\n",
    "# Hangi çaprazlama, mutasyon ve seçilim yöntemlerinin kullanılacağını tanımla\n",
    "toolbox.register(\"mate\", tools.cxUniform, indpb=0.50)\n",
    "toolbox.register(\"mutate\", tools.mutGaussian, mu=0, sigma=1, indpb=0.05)\n",
    "toolbox.register(\"select\", tools.selTournament, tournsize=selectionTournamentSize)"
   ]
  },
  {
   "cell_type": "markdown",
   "metadata": {},
   "source": [
    "#### Popülasyonu oluştur"
   ]
  },
  {
   "cell_type": "code",
   "execution_count": 11,
   "metadata": {},
   "outputs": [],
   "source": [
    "population = toolbox.population(n=n_population)\n",
    "stats = tools.Statistics(lambda ind: ind.fitness.values[0])\n",
    "hallOfFame = tools.HallOfFame(1)"
   ]
  },
  {
   "cell_type": "markdown",
   "metadata": {},
   "source": [
    "## Simülasyon başlasın!"
   ]
  },
  {
   "cell_type": "code",
   "execution_count": 12,
   "metadata": {},
   "outputs": [
    {
     "name": "stdout",
     "output_type": "stream",
     "text": [
      "gen\tnevals\n",
      "0  \t32    \n",
      "1  \t14    \n",
      "2  \t13    \n",
      "3  \t16    \n",
      "4  \t23    \n",
      "5  \t23    \n",
      "6  \t14    \n",
      "7  \t13    \n",
      "8  \t16    \n",
      "9  \t21    \n",
      "10 \t23    \n",
      "11 \t17    \n",
      "12 \t20    \n",
      "13 \t19    \n",
      "14 \t20    \n",
      "15 \t21    \n",
      "16 \t17    \n",
      "17 \t12    \n",
      "18 \t20    \n",
      "19 \t14    \n",
      "20 \t14    \n",
      "21 \t19    \n",
      "22 \t14    \n",
      "23 \t18    \n",
      "24 \t23    \n",
      "25 \t17    \n"
     ]
    }
   ],
   "source": [
    "finalPopulation, logs = algorithms.eaSimple(\n",
    "\tpopulation=population,\n",
    "\ttoolbox=toolbox,\n",
    "\thalloffame=hallOfFame,\n",
    "\tstats=stats,\n",
    "\tngen=n_generation,\n",
    "\tcxpb=crossingoverProbability,\n",
    "\tmutpb=mutationProbability,\n",
    "\tverbose=True\n",
    ")"
   ]
  },
  {
   "cell_type": "markdown",
   "metadata": {},
   "source": [
    "### En iyi bireyle simülasyonu çalıştır"
   ]
  },
  {
   "cell_type": "code",
   "execution_count": 13,
   "metadata": {
    "scrolled": true
   },
   "outputs": [
    {
     "name": "stdout",
     "output_type": "stream",
     "text": [
      "[+] En iyi uygunluk değeri: 1500.0\n",
      "Genotip:  [1.3058483999025259, 0.5239581436378747, -0.9934185979558662, -1.2136314573096108, 0.9322521455993511, -1.7907323769385324, 0.6996398988979424, 1.3686562713792414, 1.0430222805678417, 0.08612360013032382, 0.3981610689973498, -0.7191259097412133, -0.2826876446536739, 1.9476190031354246, 1.150752330383713, -1.109570969846198, -0.7140813750130052, 0.7896447711648813, 1.9101949103686673, -0.4963878680155234, 0.11624376288143501, 1.4811352578821997, 0.5859399858745413, 0.3255695794696582, 0.2444314847660672, -0.3351945637773304, 1.6069888989404995, -0.7177252162701241, -1.405550906585943, 0.4465994552915829, -0.6001821614442142, 0.02806603354988558, -1.0223654917091007, -0.965107240937428, 1.818605177222585, 0.12146933171565409, 1.5022902213472842, -1.0249682094540045, 0.8896268085173817, -0.6621325075909323, -2.6942556188636533, 0.967839690869904, -2.5327403361921292, -1.6086439052590682, -0.5464178448073405, 2.0642782977705076, -0.4884786293128645, -0.6626038781102006, 0.2914542376574771, 1.31918380756952]\n"
     ]
    }
   ],
   "source": [
    "best = hallOfFame[0]\n",
    "print(\"[+] En iyi uygunluk değeri: {}\".format(best.fitness.values[0]))\n",
    "print(\"Genotip: \", best)\n",
    "\n",
    "run_env(\n",
    "\tact_fn=(lambda state: nn_forward(best, state)),\n",
    "\tn_episode=5,\n",
    "\trender=True\n",
    ")\n",
    "env.close()"
   ]
  }
 ],
 "metadata": {
  "kernelspec": {
   "display_name": "Python 3",
   "language": "python",
   "name": "python3"
  },
  "language_info": {
   "codemirror_mode": {
    "name": "ipython",
    "version": 3
   },
   "file_extension": ".py",
   "mimetype": "text/x-python",
   "name": "python",
   "nbconvert_exporter": "python",
   "pygments_lexer": "ipython3",
   "version": "3.8.5"
  }
 },
 "nbformat": 4,
 "nbformat_minor": 4
}

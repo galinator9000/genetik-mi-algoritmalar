{
 "cells": [
  {
   "cell_type": "code",
   "execution_count": 1,
   "metadata": {},
   "outputs": [],
   "source": [
    "import random\n",
    "from deap import algorithms, base, creator, tools"
   ]
  },
  {
   "cell_type": "markdown",
   "metadata": {},
   "source": [
    "### Hiperparametreler"
   ]
  },
  {
   "cell_type": "code",
   "execution_count": 2,
   "metadata": {},
   "outputs": [],
   "source": [
    "# Her bireyin gen uzunluğu\n",
    "n_features = 100\n",
    "\n",
    "# Simüle edilecek nesil sayısı\n",
    "n_generation = 100\n",
    "\n",
    "# Popülasyon boyutu (birey sayısı)\n",
    "n_population = 64\n",
    "\n",
    "# Seleksiyon turnuvasındaki birey sayısı\n",
    "selectionTournamentSize = 3\n",
    "\n",
    "# Çaprazlama ve mutasyon olasılıkları\n",
    "crossingoverProbability = 0.50\n",
    "mutationProbability = 0.02"
   ]
  },
  {
   "cell_type": "markdown",
   "metadata": {},
   "source": [
    "### Uygunluk ve Birey sınıflarını oluştur"
   ]
  },
  {
   "cell_type": "code",
   "execution_count": 3,
   "metadata": {},
   "outputs": [],
   "source": [
    "creator.create(\"Fitness\", base.Fitness, weights=(1.0,))\n",
    "creator.create(\"Individual\", list, fitness=creator.Fitness)"
   ]
  },
  {
   "cell_type": "markdown",
   "metadata": {},
   "source": [
    "#### Bireylerin genotiplerini? ve popülasyonun basitçe birey listesi olduğunu tanımla"
   ]
  },
  {
   "cell_type": "code",
   "execution_count": 4,
   "metadata": {},
   "outputs": [],
   "source": [
    "toolbox = base.Toolbox()\n",
    "toolbox.register(\"attr_individual\", random.randint, 0, 1)\n",
    "toolbox.register(\"individual\", tools.initRepeat, creator.Individual, toolbox.attr_individual, n_features)\n",
    "toolbox.register(\"population\", tools.initRepeat, list, toolbox.individual)"
   ]
  },
  {
   "cell_type": "markdown",
   "metadata": {},
   "source": [
    "### Uygunluk fonksiyonunu tanımla (tuple)"
   ]
  },
  {
   "cell_type": "code",
   "execution_count": 5,
   "metadata": {},
   "outputs": [],
   "source": [
    "def evaluate(individual):\n",
    "\treturn (sum(individual), )"
   ]
  },
  {
   "cell_type": "code",
   "execution_count": 6,
   "metadata": {},
   "outputs": [],
   "source": [
    "# Uygunluk fonksiyonunu kaydet\n",
    "toolbox.register(\"evaluate\", evaluate)\n",
    "\n",
    "# Hangi çaprazlama, mutasyon ve seçilim yöntemlerinin kullanılacağını tanımla\n",
    "toolbox.register(\"mate\", tools.cxUniform, indpb=0.50)\n",
    "toolbox.register(\"mutate\", tools.mutFlipBit, indpb=0.10)\n",
    "toolbox.register(\"select\", tools.selTournament, tournsize=selectionTournamentSize)"
   ]
  },
  {
   "cell_type": "markdown",
   "metadata": {},
   "source": [
    "### Popülasyonu oluştur"
   ]
  },
  {
   "cell_type": "code",
   "execution_count": 7,
   "metadata": {},
   "outputs": [],
   "source": [
    "population = toolbox.population(n=n_population)\n",
    "hallOfFame = tools.HallOfFame(1)"
   ]
  },
  {
   "cell_type": "markdown",
   "metadata": {},
   "source": [
    "### Simülasyon başlasın!"
   ]
  },
  {
   "cell_type": "code",
   "execution_count": 8,
   "metadata": {
    "scrolled": true
   },
   "outputs": [
    {
     "name": "stdout",
     "output_type": "stream",
     "text": [
      "gen\tnevals\n",
      "0  \t64    \n",
      "1  \t32    \n",
      "2  \t41    \n",
      "3  \t34    \n",
      "4  \t22    \n",
      "5  \t27    \n",
      "6  \t22    \n",
      "7  \t33    \n",
      "8  \t36    \n",
      "9  \t17    \n",
      "10 \t40    \n",
      "11 \t31    \n",
      "12 \t26    \n",
      "13 \t26    \n",
      "14 \t28    \n",
      "15 \t37    \n",
      "16 \t26    \n",
      "17 \t32    \n",
      "18 \t24    \n",
      "19 \t38    \n",
      "20 \t31    \n",
      "21 \t30    \n",
      "22 \t24    \n",
      "23 \t41    \n",
      "24 \t34    \n",
      "25 \t29    \n",
      "26 \t28    \n",
      "27 \t32    \n",
      "28 \t40    \n",
      "29 \t28    \n",
      "30 \t33    \n",
      "31 \t49    \n",
      "32 \t26    \n",
      "33 \t30    \n",
      "34 \t36    \n",
      "35 \t37    \n",
      "36 \t26    \n",
      "37 \t41    \n",
      "38 \t32    \n",
      "39 \t33    \n",
      "40 \t34    \n",
      "41 \t25    \n",
      "42 \t32    \n",
      "43 \t36    \n",
      "44 \t23    \n",
      "45 \t36    \n",
      "46 \t25    \n",
      "47 \t36    \n",
      "48 \t38    \n",
      "49 \t30    \n",
      "50 \t30    \n",
      "51 \t32    \n",
      "52 \t34    \n",
      "53 \t30    \n",
      "54 \t34    \n",
      "55 \t39    \n",
      "56 \t28    \n",
      "57 \t40    \n",
      "58 \t40    \n",
      "59 \t38    \n",
      "60 \t34    \n",
      "61 \t26    \n",
      "62 \t35    \n",
      "63 \t18    \n",
      "64 \t33    \n",
      "65 \t28    \n",
      "66 \t28    \n",
      "67 \t43    \n",
      "68 \t34    \n",
      "69 \t36    \n",
      "70 \t30    \n",
      "71 \t20    \n",
      "72 \t32    \n",
      "73 \t34    \n",
      "74 \t30    \n",
      "75 \t31    \n",
      "76 \t30    \n",
      "77 \t30    \n",
      "78 \t36    \n",
      "79 \t44    \n",
      "80 \t32    \n",
      "81 \t30    \n",
      "82 \t35    \n",
      "83 \t24    \n",
      "84 \t29    \n",
      "85 \t36    \n",
      "86 \t27    \n",
      "87 \t34    \n",
      "88 \t25    \n",
      "89 \t41    \n",
      "90 \t50    \n",
      "91 \t32    \n",
      "92 \t33    \n",
      "93 \t22    \n",
      "94 \t20    \n",
      "95 \t33    \n",
      "96 \t24    \n",
      "97 \t39    \n",
      "98 \t38    \n",
      "99 \t43    \n",
      "100\t34    \n"
     ]
    }
   ],
   "source": [
    "finalPopulation, logs = algorithms.eaSimple(\n",
    "\tpopulation=population,\n",
    "\ttoolbox=toolbox,\n",
    "\thalloffame=hallOfFame,\n",
    "\tngen=n_generation,\n",
    "\tcxpb=crossingoverProbability,\n",
    "\tmutpb=mutationProbability,\n",
    "\tverbose=True\n",
    ")"
   ]
  },
  {
   "cell_type": "code",
   "execution_count": 9,
   "metadata": {},
   "outputs": [
    {
     "name": "stdout",
     "output_type": "stream",
     "text": [
      "[+] En iyi uygunluk değeri: 94.0\n",
      "Genotip:  [1, 1, 1, 1, 1, 1, 1, 1, 1, 1, 1, 1, 1, 1, 1, 1, 1, 1, 1, 0, 1, 0, 1, 1, 1, 1, 0, 1, 1, 1, 1, 1, 1, 1, 1, 1, 1, 1, 1, 1, 1, 1, 1, 1, 0, 1, 0, 1, 1, 1, 1, 1, 1, 1, 1, 1, 1, 1, 1, 1, 1, 1, 1, 1, 1, 1, 1, 1, 1, 1, 1, 1, 1, 1, 1, 1, 1, 1, 1, 1, 0, 1, 1, 1, 1, 1, 1, 1, 1, 1, 1, 1, 1, 1, 1, 1, 1, 1, 1, 1]\n"
     ]
    }
   ],
   "source": [
    "bestSoFar = hallOfFame[0]\n",
    "print(\"[+] En iyi uygunluk değeri: {}\".format(bestSoFar.fitness.values[0]))\n",
    "print(\"Genotip: \", bestSoFar)"
   ]
  }
 ],
 "metadata": {
  "kernelspec": {
   "display_name": "Python 3",
   "language": "python",
   "name": "python3"
  },
  "language_info": {
   "codemirror_mode": {
    "name": "ipython",
    "version": 3
   },
   "file_extension": ".py",
   "mimetype": "text/x-python",
   "name": "python",
   "nbconvert_exporter": "python",
   "pygments_lexer": "ipython3",
   "version": "3.8.5"
  }
 },
 "nbformat": 4,
 "nbformat_minor": 4
}

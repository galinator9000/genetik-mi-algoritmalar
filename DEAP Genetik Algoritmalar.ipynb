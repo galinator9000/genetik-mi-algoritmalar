{
 "cells": [
  {
   "cell_type": "code",
   "execution_count": 1,
   "metadata": {},
   "outputs": [],
   "source": [
    "import random\n",
    "import numpy as np\n",
    "from deap import algorithms, base, creator, tools"
   ]
  },
  {
   "cell_type": "markdown",
   "metadata": {},
   "source": [
    "#### Tekrarlanabilirlik için seed ayarlanır"
   ]
  },
  {
   "cell_type": "code",
   "execution_count": 2,
   "metadata": {},
   "outputs": [],
   "source": [
    "SEED_VALUE = 16\n",
    "random.seed(SEED_VALUE)\n",
    "np.random.seed(SEED_VALUE)"
   ]
  },
  {
   "cell_type": "markdown",
   "metadata": {},
   "source": [
    "### Hiperparametreler"
   ]
  },
  {
   "cell_type": "code",
   "execution_count": 3,
   "metadata": {},
   "outputs": [],
   "source": [
    "# Her bireyin gen uzunluğu\n",
    "n_features = 100\n",
    "\n",
    "# Simüle edilecek nesil sayısı\n",
    "n_generation = 100\n",
    "\n",
    "# Popülasyon boyutu (birey sayısı)\n",
    "n_population = 64\n",
    "\n",
    "# Seleksiyon turnuvasındaki birey sayısı\n",
    "selectionTournamentSize = 3\n",
    "\n",
    "# Çaprazlama ve mutasyon olasılıkları\n",
    "crossingoverProbability = 0.50\n",
    "mutationProbability = 0.05"
   ]
  },
  {
   "cell_type": "markdown",
   "metadata": {},
   "source": [
    "#### Uygunluk ve Birey sınıflarını oluştur"
   ]
  },
  {
   "cell_type": "code",
   "execution_count": 4,
   "metadata": {},
   "outputs": [],
   "source": [
    "creator.create(\"Fitness\", base.Fitness, weights=(1.0,))\n",
    "creator.create(\"Individual\", list, fitness=creator.Fitness)"
   ]
  },
  {
   "cell_type": "markdown",
   "metadata": {},
   "source": [
    "#### Bireylerin genotiplerini ve popülasyonun basitçe birey listesi olduğunu tanımla"
   ]
  },
  {
   "cell_type": "code",
   "execution_count": 5,
   "metadata": {},
   "outputs": [],
   "source": [
    "toolbox = base.Toolbox()\n",
    "toolbox.register(\"attr_bool\", random.randint, 0, 1)\n",
    "toolbox.register(\"individual\", tools.initRepeat, creator.Individual, toolbox.attr_bool, n_features)\n",
    "toolbox.register(\"population\", tools.initRepeat, list, toolbox.individual)"
   ]
  },
  {
   "cell_type": "markdown",
   "metadata": {},
   "source": [
    "#### Uygunluk fonksiyonunu tanımla"
   ]
  },
  {
   "cell_type": "code",
   "execution_count": 6,
   "metadata": {},
   "outputs": [],
   "source": [
    "def calculateFitness(individual):\n",
    "\tfitness = sum(individual)\n",
    "\t# tuple tipinde çevirmeli\n",
    "\treturn (fitness, )"
   ]
  },
  {
   "cell_type": "code",
   "execution_count": 7,
   "metadata": {},
   "outputs": [],
   "source": [
    "# Uygunluk fonksiyonunu kaydet\n",
    "toolbox.register(\"evaluate\", calculateFitness)\n",
    "\n",
    "# Hangi çaprazlama, mutasyon ve seçilim yöntemlerinin kullanılacağını tanımla\n",
    "toolbox.register(\"mate\", tools.cxOnePoint)\n",
    "toolbox.register(\"mutate\", tools.mutFlipBit, indpb=0.05)\n",
    "toolbox.register(\"select\", tools.selTournament, tournsize=selectionTournamentSize)"
   ]
  },
  {
   "cell_type": "markdown",
   "metadata": {},
   "source": [
    "### Popülasyonu oluştur"
   ]
  },
  {
   "cell_type": "code",
   "execution_count": 8,
   "metadata": {},
   "outputs": [],
   "source": [
    "population = toolbox.population(n=n_population)\n",
    "hallOfFame = tools.HallOfFame(1)\n",
    "\n",
    "# Fitness istatistiği\n",
    "stats = tools.Statistics(lambda ind: ind.fitness.values[0])\n",
    "stats.register(\"avg\", np.mean, axis=0)\n",
    "stats.register(\"std\", np.std, axis=0)\n",
    "stats.register(\"min\", np.min, axis=0)\n",
    "stats.register(\"max\", np.max, axis=0)"
   ]
  },
  {
   "cell_type": "markdown",
   "metadata": {},
   "source": [
    "### Simülasyon başlasın!"
   ]
  },
  {
   "cell_type": "code",
   "execution_count": 9,
   "metadata": {
    "scrolled": true
   },
   "outputs": [
    {
     "name": "stdout",
     "output_type": "stream",
     "text": [
      "gen\tnevals\tavg    \tstd    \tmin\tmax\n",
      "0  \t64    \t49.3125\t4.93037\t38 \t63 \n",
      "1  \t32    \t54.2031\t4.45877\t46 \t64 \n",
      "2  \t46    \t57.4531\t4.24238\t49 \t65 \n",
      "3  \t33    \t61     \t3.25   \t51 \t67 \n",
      "4  \t26    \t63.2344\t1.56866\t60 \t67 \n",
      "5  \t40    \t64.3906\t1.40998\t61 \t67 \n",
      "6  \t28    \t65.1562\t1.52294\t60 \t69 \n",
      "7  \t38    \t66.125 \t1.30504\t63 \t69 \n",
      "8  \t28    \t66.8438\t1.54332\t61 \t71 \n",
      "9  \t47    \t67.4375\t1.70363\t62 \t71 \n",
      "10 \t26    \t68.9219\t1.09408\t66 \t71 \n",
      "11 \t33    \t69.7812\t1.25585\t67 \t73 \n",
      "12 \t39    \t70.8594\t1.22305\t68 \t74 \n",
      "13 \t33    \t71.7344\t1.14894\t69 \t74 \n",
      "14 \t37    \t72.5781\t1.79239\t65 \t75 \n",
      "15 \t38    \t73.7031\t1.15488\t68 \t75 \n",
      "16 \t38    \t74.4062\t0.578758\t73 \t75 \n",
      "17 \t40    \t74.7656\t0.605758\t71 \t75 \n",
      "18 \t37    \t74.8125\t1.01358 \t68 \t76 \n",
      "19 \t40    \t74.9531\t0.597643\t71 \t76 \n",
      "20 \t36    \t75     \t0.829156\t71 \t76 \n",
      "21 \t25    \t75.4219\t0.524544\t75 \t77 \n",
      "22 \t40    \t75.6875\t1.05882 \t70 \t77 \n",
      "23 \t36    \t76.0938\t0.384006\t75 \t77 \n",
      "24 \t36    \t76.2812\t0.71739 \t72 \t77 \n",
      "25 \t26    \t76.5312\t0.951459\t71 \t77 \n",
      "26 \t39    \t76.8438\t0.617929\t73 \t78 \n",
      "27 \t40    \t77.0781\t0.594366\t74 \t79 \n",
      "28 \t26    \t77.2969\t0.653827\t74 \t78 \n",
      "29 \t32    \t77.5625\t0.899218\t73 \t79 \n",
      "30 \t34    \t77.9219\t0.644803\t74 \t79 \n",
      "31 \t32    \t78.1562\t0.711924\t75 \t79 \n",
      "32 \t28    \t78.1406\t1.41275 \t73 \t80 \n",
      "33 \t31    \t78.7344\t1.16246 \t74 \t80 \n",
      "34 \t32    \t79.1875\t1.41283 \t71 \t81 \n",
      "35 \t19    \t79.9062\t0.700864\t76 \t81 \n",
      "36 \t34    \t79.9062\t1.15541 \t73 \t81 \n",
      "37 \t39    \t80.2031\t0.954916\t75 \t81 \n",
      "38 \t35    \t80.7031\t0.456881\t80 \t81 \n",
      "39 \t35    \t80.875 \t0.910014\t74 \t82 \n",
      "40 \t35    \t80.9688\t0.68394 \t77 \t82 \n",
      "41 \t32    \t81.0469\t1.08152 \t73 \t82 \n",
      "42 \t36    \t81.4219\t0.766581\t77 \t83 \n",
      "43 \t38    \t81.9844\t0.83838 \t77 \t83 \n",
      "44 \t38    \t82.3281\t1.01635 \t76 \t83 \n",
      "45 \t36    \t82.7031\t0.878203\t77 \t84 \n",
      "46 \t40    \t82.75  \t1.34629 \t75 \t84 \n",
      "47 \t30    \t82.9219\t0.668597\t79 \t84 \n",
      "48 \t30    \t83.1094\t0.615355\t80 \t84 \n",
      "49 \t30    \t83.4062\t0.913762\t79 \t85 \n",
      "50 \t34    \t83.6406\t1.46167 \t78 \t86 \n",
      "51 \t37    \t84.1719\t1.48487 \t78 \t86 \n",
      "52 \t29    \t84.9688\t0.967741\t80 \t86 \n",
      "53 \t31    \t85.5312\t0.883331\t81 \t88 \n",
      "54 \t42    \t85.6719\t1.54166 \t80 \t88 \n",
      "55 \t35    \t86.1094\t1.57239 \t80 \t88 \n",
      "56 \t40    \t86.7969\t1.40512 \t80 \t88 \n",
      "57 \t31    \t87.5   \t1.14564 \t83 \t88 \n",
      "58 \t35    \t87.8281\t0.674414\t84 \t88 \n",
      "59 \t43    \t87.8281\t0.893635\t82 \t88 \n",
      "60 \t25    \t87.8281\t0.820722\t83 \t88 \n",
      "61 \t31    \t87.7344\t1.3491  \t78 \t88 \n",
      "62 \t43    \t87.4531\t1.60983 \t81 \t88 \n",
      "63 \t27    \t87.8906\t0.615355\t84 \t88 \n",
      "64 \t35    \t87.5469\t1.50965 \t80 \t88 \n",
      "65 \t34    \t88     \t0       \t88 \t88 \n",
      "66 \t36    \t87.5   \t1.58114 \t81 \t88 \n",
      "67 \t26    \t87.7812\t0.892131\t83 \t88 \n",
      "68 \t25    \t87.75  \t1.08972 \t82 \t89 \n",
      "69 \t28    \t87.9531\t0.647825\t83 \t89 \n",
      "70 \t37    \t87.7344\t1.36063 \t81 \t89 \n",
      "71 \t32    \t88.1875\t0.704339\t84 \t89 \n",
      "72 \t32    \t88.6094\t0.627923\t86 \t90 \n",
      "73 \t37    \t88.8281\t0.857953\t85 \t90 \n",
      "74 \t41    \t88.9531\t1.09587 \t84 \t90 \n",
      "75 \t35    \t89.5312\t0.883331\t84 \t90 \n",
      "76 \t28    \t89.9531\t0.211371\t89 \t90 \n",
      "77 \t24    \t89.7188\t1.13838 \t85 \t92 \n",
      "78 \t35    \t90.0156\t0.83838 \t85 \t92 \n",
      "79 \t45    \t89.8125\t1.71277 \t83 \t92 \n",
      "80 \t23    \t90.6094\t0.945668\t88 \t93 \n",
      "81 \t31    \t91     \t1.56125 \t82 \t93 \n",
      "82 \t28    \t91.7812\t0.926498\t86 \t93 \n",
      "83 \t32    \t92.2188\t0.51444 \t91 \t93 \n",
      "84 \t25    \t92.2812\t1.20505 \t86 \t93 \n",
      "85 \t35    \t92.7188\t1.31659 \t85 \t93 \n",
      "86 \t42    \t92.9062\t0.5511  \t89 \t93 \n",
      "87 \t41    \t92.7969\t1.1344  \t86 \t93 \n",
      "88 \t36    \t93     \t0       \t93 \t93 \n",
      "89 \t34    \t93     \t0       \t93 \t93 \n",
      "90 \t40    \t92.9531\t0.27555 \t91 \t93 \n",
      "91 \t29    \t92.5938\t1.4111  \t87 \t93 \n",
      "92 \t37    \t92.8438\t0.887742\t87 \t93 \n",
      "93 \t26    \t92.7188\t1.37464 \t84 \t93 \n",
      "94 \t29    \t92.9219\t0.620098\t88 \t93 \n",
      "95 \t44    \t92.9062\t0.744118\t87 \t93 \n",
      "96 \t38    \t92.75  \t1.18585 \t86 \t93 \n",
      "97 \t26    \t92.9375\t0.390312\t90 \t93 \n",
      "98 \t33    \t92.8125\t0.899218\t88 \t93 \n",
      "99 \t35    \t92.9375\t0.347985\t91 \t93 \n",
      "100\t29    \t92.8281\t0.961033\t87 \t93 \n"
     ]
    }
   ],
   "source": [
    "finalPopulation, logs = algorithms.eaSimple(\n",
    "\tpopulation=population,\n",
    "\ttoolbox=toolbox,\n",
    "\thalloffame=hallOfFame,\n",
    "\tstats=stats,\n",
    "\tngen=n_generation,\n",
    "\tcxpb=crossingoverProbability,\n",
    "\tmutpb=mutationProbability,\n",
    "\tverbose=True\n",
    ")"
   ]
  },
  {
   "cell_type": "code",
   "execution_count": 10,
   "metadata": {},
   "outputs": [
    {
     "name": "stdout",
     "output_type": "stream",
     "text": [
      "[+] En iyi uygunluk değeri: 93.0\n",
      "Genotip:  [1, 1, 1, 1, 1, 1, 1, 1, 1, 1, 0, 1, 1, 1, 1, 1, 0, 1, 0, 1, 1, 1, 1, 1, 1, 1, 1, 1, 1, 1, 1, 1, 1, 1, 1, 0, 1, 1, 1, 1, 1, 1, 1, 1, 1, 1, 1, 1, 1, 1, 1, 1, 1, 1, 1, 1, 1, 1, 1, 1, 1, 1, 1, 1, 1, 1, 1, 1, 1, 0, 1, 1, 1, 0, 1, 1, 1, 1, 0, 1, 1, 1, 1, 1, 1, 1, 1, 1, 1, 1, 1, 1, 1, 1, 1, 1, 1, 1, 1, 1]\n"
     ]
    }
   ],
   "source": [
    "bestIndividual = hallOfFame[0]\n",
    "print(\"[+] En iyi uygunluk değeri: {}\".format(bestIndividual.fitness.values[0]))\n",
    "print(\"Genotip: \", bestIndividual)"
   ]
  },
  {
   "cell_type": "code",
   "execution_count": null,
   "metadata": {},
   "outputs": [],
   "source": []
  }
 ],
 "metadata": {
  "kernelspec": {
   "display_name": "Python 3",
   "language": "python",
   "name": "python3"
  },
  "language_info": {
   "codemirror_mode": {
    "name": "ipython",
    "version": 3
   },
   "file_extension": ".py",
   "mimetype": "text/x-python",
   "name": "python",
   "nbconvert_exporter": "python",
   "pygments_lexer": "ipython3",
   "version": "3.8.5"
  }
 },
 "nbformat": 4,
 "nbformat_minor": 4
}

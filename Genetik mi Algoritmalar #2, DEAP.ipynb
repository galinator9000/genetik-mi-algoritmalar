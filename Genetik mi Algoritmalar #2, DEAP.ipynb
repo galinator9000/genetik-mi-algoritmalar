{
 "cells": [
  {
   "cell_type": "code",
   "execution_count": 1,
   "metadata": {},
   "outputs": [],
   "source": [
    "import random\n",
    "import numpy as np\n",
    "from deap import algorithms, base, creator, tools"
   ]
  },
  {
   "cell_type": "markdown",
   "metadata": {},
   "source": [
    "#### Tekrarlanabilirlik için seed ayarlanır"
   ]
  },
  {
   "cell_type": "code",
   "execution_count": 2,
   "metadata": {},
   "outputs": [],
   "source": [
    "SEED_VALUE = 32\n",
    "random.seed(SEED_VALUE)\n",
    "np.random.seed(SEED_VALUE)"
   ]
  },
  {
   "cell_type": "markdown",
   "metadata": {},
   "source": [
    "## Hiperparametreler"
   ]
  },
  {
   "cell_type": "code",
   "execution_count": 3,
   "metadata": {},
   "outputs": [],
   "source": [
    "# Simüle edilecek nesil sayısı\n",
    "n_generation = 32\n",
    "\n",
    "# Popülasyon boyutu (birey sayısı)\n",
    "n_population = 32\n",
    "\n",
    "# Her bireyin gen sayısı\n",
    "n_genes = 16\n",
    "\n",
    "# Seçilim turnuvasında rastgele seçilecek birey sayısı (k)\n",
    "selectionTournamentSize = 3\n",
    "\n",
    "# Birey bazlı mutasyon olasılığı\n",
    "individualMutationProbability = 0.10"
   ]
  },
  {
   "cell_type": "markdown",
   "metadata": {},
   "source": [
    "## DEAP"
   ]
  },
  {
   "cell_type": "markdown",
   "metadata": {},
   "source": [
    "#### \"Uygunluk\" ve \"Birey\" sınıflarını tanımla, uygunluk sınıfını bireye ait bir değer olacak şekilde parametre geç"
   ]
  },
  {
   "cell_type": "code",
   "execution_count": 4,
   "metadata": {},
   "outputs": [],
   "source": [
    "creator.create(\"Fitness\", base.Fitness, weights=(1.0,))\n",
    "creator.create(\"Individual\", list, fitness=creator.Fitness)"
   ]
  },
  {
   "cell_type": "code",
   "execution_count": 5,
   "metadata": {},
   "outputs": [],
   "source": [
    "## Toolbox'ımız\n",
    "toolbox = base.Toolbox()"
   ]
  },
  {
   "cell_type": "markdown",
   "metadata": {},
   "source": [
    "#### Gen, birey ve popülasyon oluşturmamızı sağlayacak fonksiyonları oluşturup birbirine bağlayalım."
   ]
  },
  {
   "cell_type": "code",
   "execution_count": 6,
   "metadata": {},
   "outputs": [],
   "source": [
    "# Her bir bireyin her bir genini oluşturacak fonksiyonu toolbox içinde tanımla\n",
    "# (0/1, boolean)\n",
    "toolbox.register(\"initializeGene\", random.randint, 0, 1)\n",
    "\n",
    "# Bireyleri oluşturacak fonksiyonu toolbox içinde tanımla\n",
    "toolbox.register(\"initializeIndividual\", tools.initRepeat, creator.Individual, toolbox.initializeGene, n=n_genes)\n",
    "\n",
    "# Popülasyonu oluşturacak fonksiyonu toolbox içinde tanımla\n",
    "toolbox.register(\"initializePopulation\", tools.initRepeat, list, toolbox.initializeIndividual, n=n_population)"
   ]
  },
  {
   "cell_type": "markdown",
   "metadata": {},
   "source": [
    "*initializePopulation* yoluyla bir popülasyon oluşturulurken, içinde bulunacak bireyler *initializeIndividual* çağrılarak oluşturulur; her birey oluşturulurken ona ait olacak her bir gen ise *initializeGene* çağrılarak tanımlanır."
   ]
  },
  {
   "cell_type": "markdown",
   "metadata": {},
   "source": [
    "#### Gen, birey ve popülasyon oluşturan toolbox fonksiyonlarımızı test edelim"
   ]
  },
  {
   "cell_type": "code",
   "execution_count": 7,
   "metadata": {
    "scrolled": false
   },
   "outputs": [
    {
     "name": "stdout",
     "output_type": "stream",
     "text": [
      "+ Örnek gen  0\n",
      "\n",
      "+ Örnek birey  [0 0 1 0 1 0 0 0 1 1 0 1 1 0 0 0]\n",
      "\n",
      "+ Örnek popülasyon (n=5)\n",
      " [[1 0 1 0 1 0 1 0 0 0 0 1 0 1 0 0]\n",
      " [1 0 0 1 1 1 0 1 0 0 1 0 1 1 0 0]\n",
      " [1 1 1 0 1 0 0 1 0 0 0 0 1 0 1 0]\n",
      " [1 0 0 0 1 0 1 1 1 1 0 1 0 0 1 1]\n",
      " [1 0 0 1 1 0 0 0 1 0 0 0 0 1 1 0]]\n"
     ]
    }
   ],
   "source": [
    "print(\n",
    "\t\"+ Örnek gen \",\n",
    "\ttoolbox.initializeGene()\n",
    ")\n",
    "print(\n",
    "\t\"\\n+ Örnek birey \",\n",
    "\tnp.array(toolbox.initializeIndividual())\n",
    ")\n",
    "print(\n",
    "\t\"\\n+ Örnek popülasyon (n=5)\\n\",\n",
    "\tnp.array(toolbox.initializePopulation(n=5))\n",
    ")"
   ]
  },
  {
   "cell_type": "markdown",
   "metadata": {},
   "source": [
    "#### Uygunluk fonksiyonumuzu toolbox yoluyla tanımlayalım (gen değerlerinin toplamı)"
   ]
  },
  {
   "cell_type": "code",
   "execution_count": 8,
   "metadata": {},
   "outputs": [],
   "source": [
    "toolbox.register(\"evaluate\", lambda individual_genes: (sum(individual_genes), ))"
   ]
  },
  {
   "cell_type": "markdown",
   "metadata": {},
   "source": [
    "#### Çaprazlama, mutasyon ve seçilimi uygulayacak fonksiyonlarımızı toolbox yoluyla tanımlayalım"
   ]
  },
  {
   "cell_type": "code",
   "execution_count": 9,
   "metadata": {},
   "outputs": [],
   "source": [
    "# Çaprazlama metodu: Tek noktalı çaprazlama\n",
    "toolbox.register(\"mate\", tools.cxOnePoint)\n",
    "\n",
    "# Mutasyon metodu: Bit flip mutasyonu\n",
    "# ! indpb = %15 olasılık değeri burada her gen için belirlenir, birey için değil !\n",
    "toolbox.register(\"mutate\", tools.mutFlipBit, indpb=0.15)\n",
    "\n",
    "# Seçilim metodu: Turnuva seçilimi, k = selectionTournamentSize\n",
    "toolbox.register(\"select\", tools.selTournament, tournsize=selectionTournamentSize)"
   ]
  },
  {
   "cell_type": "markdown",
   "metadata": {},
   "source": [
    "#### Uygunluğu ölçen; çaprazlama, mutasyon ve seçilim operatörlerini uygulayacak toolbox fonksiyonlarımızı test edelim"
   ]
  },
  {
   "cell_type": "code",
   "execution_count": 10,
   "metadata": {},
   "outputs": [],
   "source": [
    "# Test için iki birey tanımlayalım\n",
    "ind1 = toolbox.initializeIndividual()\n",
    "ind2 = toolbox.initializeIndividual()"
   ]
  },
  {
   "cell_type": "code",
   "execution_count": 11,
   "metadata": {},
   "outputs": [
    {
     "name": "stdout",
     "output_type": "stream",
     "text": [
      "+ Uygunluk skoru\n",
      " [1 1 0 1 1 0 1 1 0 0 0 1 1 1 1 0] (10,) \n",
      " [0 0 0 0 0 1 1 0 0 1 1 0 0 0 1 0] (5,)\n"
     ]
    }
   ],
   "source": [
    "print(\n",
    "\t\"+ Uygunluk skoru\\n\",\n",
    "\tnp.array(ind1), toolbox.evaluate(ind1),\n",
    "\t\"\\n\",\n",
    "\tnp.array(ind2), toolbox.evaluate(ind2)\n",
    ")"
   ]
  },
  {
   "cell_type": "code",
   "execution_count": 12,
   "metadata": {},
   "outputs": [
    {
     "name": "stdout",
     "output_type": "stream",
     "text": [
      "+ Tek Noktalı Çaprazlama\n",
      " [1 1 0 1 1 0 1 1 0 0 0 1 1 1 1 0] Birey 1\n",
      " [0 0 0 0 0 1 1 0 0 1 1 0 0 0 1 0] Birey 2\n",
      " \n",
      "Yeni bireyler\n",
      " [[1 1 0 1 1 0 1 1 0 1 1 0 0 0 1 0]\n",
      " [0 0 0 0 0 1 1 0 0 0 0 1 1 1 1 0]]\n"
     ]
    }
   ],
   "source": [
    "print(\n",
    "\t\"+ Tek Noktalı Çaprazlama\\n\",\n",
    "\tnp.array(ind1), \"Birey 1\\n\",\n",
    "\tnp.array(ind2), \"Birey 2\\n\",\n",
    "\t\"\\nYeni bireyler\\n\",\n",
    "\tnp.array(toolbox.mate(ind1, ind2))\n",
    ")"
   ]
  },
  {
   "cell_type": "code",
   "execution_count": 13,
   "metadata": {},
   "outputs": [
    {
     "name": "stdout",
     "output_type": "stream",
     "text": [
      "+ Bit Flip Mutasyonu\n",
      " [1 1 0 1 1 0 1 1 0 1 1 0 0 0 1 0] Birey\n",
      " [1 0 0 1 0 1 1 1 1 1 1 0 0 0 1 0] Mutasyon uygulanmış hali\n"
     ]
    }
   ],
   "source": [
    "print(\n",
    "\t\"+ Bit Flip Mutasyonu\\n\",\n",
    "\tnp.array(ind1), \"Birey\\n\",\n",
    "\tnp.array(toolbox.mutate(ind1)[0]), \"Mutasyon uygulanmış hali\",\n",
    ")"
   ]
  },
  {
   "cell_type": "code",
   "execution_count": 14,
   "metadata": {},
   "outputs": [
    {
     "name": "stdout",
     "output_type": "stream",
     "text": [
      "+ Turnuva Seçilimi (parent selection) (k=2)\n",
      "[0 0 0 0 0 0 1 1 1 0 0 1 0 0 0 0] 4.0\n",
      "[0 0 0 1 1 0 0 1 1 0 0 1 0 1 0 0] 6.0\n",
      "[1 1 1 0 0 1 1 0 0 1 1 0 1 1 1 0] 10.0\n",
      "[0 1 0 0 0 0 1 0 0 0 0 1 0 1 1 1] 6.0\n",
      "[1 1 0 1 1 1 0 1 1 0 1 1 0 0 0 1] 10.0\n",
      "[0 1 1 0 0 1 1 1 0 0 1 1 0 0 0 1] 8.0\n",
      "Seçilen birey:  [0, 1, 0, 0, 0, 0, 1, 0, 0, 0, 0, 1, 0, 1, 1, 1] 6\n"
     ]
    }
   ],
   "source": [
    "print(\"+ Turnuva Seçilimi (parent selection) (k=2)\")\n",
    "\n",
    "# Örnek popülasyon tanımla\n",
    "examplePopulation = toolbox.initializePopulation(n=6)\n",
    "\n",
    "# Bireylerin uygunluklarını hesaplayıp üstlerine yaz (seçilim operatörü bu değeri okuyarak seçiyor)\n",
    "fitnesses = [toolbox.evaluate(ind) for ind in examplePopulation]\n",
    "for ind, fitnessScore in zip(examplePopulation, fitnesses):\n",
    "\tind.fitness.values = fitnessScore\n",
    "\n",
    "# Popülasyonu uygunluk skorlarıyla yazdır\n",
    "for ind in examplePopulation:\n",
    "\tprint(np.array(ind), ind.fitness.values[0])\n",
    "\n",
    "# Seçilim operatörünü uygula\n",
    "# tournsize, daha önce gösterdiğimiz k parametresi, yani uygunluğa bakılmadan kaç birey seçilip aralarında turnuva yapılacağını belirler\n",
    "# Burada geçen k parametresi ise turnuvanın kaç defa gerçekleşeceği\n",
    "selectedInd = toolbox.select(examplePopulation, k=1, tournsize=2)[0]\n",
    "print(\"Seçilen birey: \", selectedInd, toolbox.evaluate(selectedInd)[0])"
   ]
  },
  {
   "cell_type": "markdown",
   "metadata": {},
   "source": [
    "## Simülasyonu çalıştırma zamanı!"
   ]
  },
  {
   "cell_type": "code",
   "execution_count": 15,
   "metadata": {
    "scrolled": false
   },
   "outputs": [
    {
     "name": "stdout",
     "output_type": "stream",
     "text": [
      "gen\tnevals\tmin\tmax\n",
      "0  \t32    \t2  \t11 \n",
      "1  \t32    \t6  \t12 \n",
      "2  \t32    \t7  \t13 \n",
      "3  \t32    \t9  \t14 \n",
      "4  \t32    \t10 \t14 \n",
      "5  \t32    \t9  \t14 \n",
      "6  \t32    \t10 \t15 \n",
      "7  \t32    \t13 \t15 \n",
      "8  \t32    \t13 \t16 \n",
      "9  \t32    \t11 \t16 \n",
      "10 \t32    \t12 \t16 \n",
      "11 \t32    \t14 \t16 \n",
      "12 \t32    \t14 \t16 \n",
      "13 \t32    \t16 \t16 \n",
      "14 \t32    \t14 \t16 \n",
      "15 \t32    \t11 \t16 \n",
      "16 \t32    \t14 \t16 \n",
      "17 \t32    \t14 \t16 \n",
      "18 \t32    \t14 \t16 \n",
      "19 \t32    \t13 \t16 \n",
      "20 \t32    \t13 \t16 \n",
      "21 \t32    \t12 \t16 \n",
      "22 \t32    \t14 \t16 \n",
      "23 \t32    \t13 \t16 \n",
      "24 \t32    \t13 \t16 \n",
      "25 \t32    \t13 \t16 \n",
      "26 \t32    \t12 \t16 \n",
      "27 \t32    \t13 \t16 \n",
      "28 \t32    \t13 \t16 \n",
      "29 \t32    \t13 \t16 \n",
      "30 \t32    \t13 \t16 \n",
      "31 \t32    \t16 \t16 \n",
      "32 \t32    \t16 \t16 \n"
     ]
    }
   ],
   "source": [
    "# Başlangıç popülasyonunu oluştur\n",
    "initialPopulation = toolbox.initializePopulation(n=n_population)\n",
    "\n",
    "# Simülasyon boyunca en uygun bireyin kaydını tutacak objemiz\n",
    "hallOfFame = tools.HallOfFame(1)\n",
    "\n",
    "# Fitness istatistiklerini tutacak objemiz\n",
    "stats = tools.Statistics(lambda ind: ind.fitness.values[0])\n",
    "stats.register(\"min\", np.min)\n",
    "stats.register(\"max\", np.max)\n",
    "\n",
    "# Simülasyon başlasın!\n",
    "finalPopulation, logs = algorithms.eaSimple(\n",
    "\tpopulation=initialPopulation,\n",
    "\ttoolbox=toolbox,\n",
    "\thalloffame=hallOfFame,\n",
    "\tstats=stats,\n",
    "\tngen=n_generation,\n",
    "\tcxpb=1,\n",
    "\tmutpb=individualMutationProbability,\n",
    "\tverbose=True\n",
    ")"
   ]
  },
  {
   "cell_type": "markdown",
   "metadata": {},
   "source": [
    "##### Gen sayısı çok küçük olduğu için optimal sonucun bulunması hiç zor olmadı doğal olarak :)"
   ]
  },
  {
   "cell_type": "code",
   "execution_count": 16,
   "metadata": {
    "scrolled": true
   },
   "outputs": [
    {
     "name": "stdout",
     "output_type": "stream",
     "text": [
      "[+] En iyi uygunluk sağlayan bireyin skoru: 16.0\n",
      "Genotipi:  [1, 1, 1, 1, 1, 1, 1, 1, 1, 1, 1, 1, 1, 1, 1, 1]\n"
     ]
    }
   ],
   "source": [
    "bestIndividual = hallOfFame[0]\n",
    "print(\"[+] En iyi uygunluk sağlayan bireyin skoru: {}\".format(bestIndividual.fitness.values[0]))\n",
    "print(\"Genotipi: \", bestIndividual)"
   ]
  }
 ],
 "metadata": {
  "kernelspec": {
   "display_name": "Python 3",
   "language": "python",
   "name": "python3"
  },
  "language_info": {
   "codemirror_mode": {
    "name": "ipython",
    "version": 3
   },
   "file_extension": ".py",
   "mimetype": "text/x-python",
   "name": "python",
   "nbconvert_exporter": "python",
   "pygments_lexer": "ipython3",
   "version": "3.8.5"
  }
 },
 "nbformat": 4,
 "nbformat_minor": 4
}

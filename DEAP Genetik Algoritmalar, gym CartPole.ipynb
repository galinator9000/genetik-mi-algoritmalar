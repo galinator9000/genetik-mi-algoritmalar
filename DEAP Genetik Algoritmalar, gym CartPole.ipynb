{
 "cells": [
  {
   "cell_type": "code",
   "execution_count": 1,
   "metadata": {},
   "outputs": [],
   "source": [
    "import random, gym\n",
    "import numpy as np\n",
    "from deap import algorithms, base, creator, tools"
   ]
  },
  {
   "cell_type": "markdown",
   "metadata": {},
   "source": [
    "## Simülasyon ortamı"
   ]
  },
  {
   "cell_type": "code",
   "execution_count": 2,
   "metadata": {},
   "outputs": [],
   "source": [
    "env = gym.make(\"CartPole-v1\")\n",
    "observation_space_dim = env.observation_space.shape[0]\n",
    "action_space_dim = env.action_space.n"
   ]
  },
  {
   "cell_type": "markdown",
   "metadata": {},
   "source": [
    "#### Tekrarlanabilirlik için seed ayarlanır"
   ]
  },
  {
   "cell_type": "code",
   "execution_count": 3,
   "metadata": {},
   "outputs": [
    {
     "data": {
      "text/plain": [
       "[64]"
      ]
     },
     "execution_count": 3,
     "metadata": {},
     "output_type": "execute_result"
    }
   ],
   "source": [
    "SEED_VALUE = 64\n",
    "random.seed(SEED_VALUE)\n",
    "np.random.seed(SEED_VALUE)\n",
    "env.seed(SEED_VALUE)"
   ]
  },
  {
   "cell_type": "markdown",
   "metadata": {},
   "source": [
    "#### Simülasyonu çalıştırmak için ortak fonksiyon"
   ]
  },
  {
   "cell_type": "code",
   "execution_count": 4,
   "metadata": {},
   "outputs": [],
   "source": [
    "def run_env(act_fn, n_episode=1, render=False):\n",
    "\t# Episode döngüsü\n",
    "\ttotalRewards = 0\n",
    "\tfor episode in range(n_episode):\n",
    "\t\tstate = env.reset()\n",
    "\t\tdone = False\n",
    "\n",
    "\t\t# Timestep döngüsü\n",
    "\t\twhile not done:\n",
    "\t\t\tif render: env.render()\n",
    "\n",
    "\t\t\t# act_fn adlı fonksiyon parametreyi çağırarak aksiyonu al\n",
    "\t\t\taction = act_fn(state)\n",
    "\t\t\tnext_state, reward, done, info = env.step(action)\n",
    "\n",
    "\t\t\ttotalRewards += reward\n",
    "\t\t\tstate = next_state\n",
    "\treturn totalRewards"
   ]
  },
  {
   "cell_type": "markdown",
   "metadata": {},
   "source": [
    "## Yapay Sinir Ağı"
   ]
  },
  {
   "cell_type": "markdown",
   "metadata": {},
   "source": [
    "#### Ara katman ünite sayısı"
   ]
  },
  {
   "cell_type": "code",
   "execution_count": 5,
   "metadata": {},
   "outputs": [],
   "source": [
    "nn_hidden_unit = 8\n",
    "w1_ndim = (observation_space_dim*nn_hidden_unit)\n",
    "w2_ndim = (nn_hidden_unit*action_space_dim)"
   ]
  },
  {
   "cell_type": "markdown",
   "metadata": {},
   "source": [
    "#### Verilen bireyin genotipini yapay sinir ağı parametreleri olarak kullanarak, state vektörünü ağa feed-forward eder"
   ]
  },
  {
   "cell_type": "code",
   "execution_count": 6,
   "metadata": {},
   "outputs": [],
   "source": [
    "def nn_forward(individual, state):\n",
    "\t# State'in 2 seviyeli array olduğundan emin ol: [?, observation_space_dim]\n",
    "\tif len(state.shape) == 1: state = np.array([state])\n",
    "\tassert len(state.shape) == 2\n",
    "\n",
    "\t# Yapay sinir ağı parametrelerini genotip olan 1D vektörden çıkar\n",
    "\tindividual = np.array(individual)\n",
    "\tw1 = individual[:w1_ndim]\n",
    "\tb1 = individual[w1_ndim]\n",
    "\tw2 = individual[w1_ndim+1:-1]\n",
    "\tb2 = individual[-1]\n",
    "\n",
    "\t# Ağırlıkları matris çarpımı için yeniden şekillendir\n",
    "\tw1 = np.reshape(w1, (observation_space_dim, nn_hidden_unit))\n",
    "\tw2 = np.reshape(w2, (nn_hidden_unit, action_space_dim))\n",
    "\n",
    "\t# Sigmoid fonksiyonu\n",
    "\tsigmoid = lambda x: (1 / (1 + np.exp(-x)))\n",
    "\n",
    "\t# Feed-forward\n",
    "\th1 = sigmoid(np.dot(state, w1) + b1)\n",
    "\toutput = sigmoid(np.dot(h1, w2) + b2)\n",
    "\treturn np.argmax(output)"
   ]
  },
  {
   "cell_type": "markdown",
   "metadata": {},
   "source": [
    "## Genetik Algoritmalar"
   ]
  },
  {
   "cell_type": "markdown",
   "metadata": {},
   "source": [
    "### Hiperparametreler"
   ]
  },
  {
   "cell_type": "code",
   "execution_count": 7,
   "metadata": {},
   "outputs": [],
   "source": [
    "# Her bireyin gen uzunluğu (ağın parametre sayısı)\n",
    "n_features = (w1_ndim + w2_ndim + 2)\n",
    "\n",
    "# Simüle edilecek nesil sayısı\n",
    "n_generation = 25\n",
    "\n",
    "# Popülasyon boyutu (birey sayısı)\n",
    "n_population = 32\n",
    "\n",
    "# Seleksiyon turnuvasındaki birey sayısı\n",
    "selectionTournamentSize = 3\n",
    "\n",
    "# Çaprazlama ve mutasyon olasılıkları\n",
    "crossingoverProbability = 0.50\n",
    "mutationProbability = 0.10"
   ]
  },
  {
   "cell_type": "code",
   "execution_count": 8,
   "metadata": {},
   "outputs": [],
   "source": [
    "# Uygunluk ve Birey sınıflarını oluştur\n",
    "creator.create(\"Fitness\", base.Fitness, weights=(1.0,))\n",
    "creator.create(\"Individual\", list, fitness=creator.Fitness)\n",
    "\n",
    "# Bireylerin genotiplerini ve popülasyonun basitçe birey listesi olduğunu tanımla\n",
    "toolbox = base.Toolbox()\n",
    "toolbox.register(\"attr_weights_n_biases\", random.gauss, 0, 1)\n",
    "toolbox.register(\"individual\", tools.initRepeat, creator.Individual, toolbox.attr_weights_n_biases, n_features)\n",
    "toolbox.register(\"population\", tools.initRepeat, list, toolbox.individual)"
   ]
  },
  {
   "cell_type": "markdown",
   "metadata": {},
   "source": [
    "#### Uygunluk fonksiyonunu tanımla"
   ]
  },
  {
   "cell_type": "code",
   "execution_count": 9,
   "metadata": {},
   "outputs": [],
   "source": [
    "def calculateFitness(individual):\n",
    "\tindividualEpisodeRewards = run_env(\n",
    "\t\t# Aksiyon fonksiyonumuz, bireyin genotipini kullanarak yapay sinir ağını çalıştırır\n",
    "\t\tact_fn=(lambda state: nn_forward(individual, state)),\n",
    "\t\t# Her uygunluk hesabında ortamı 3 episode çalıştır\n",
    "\t\tn_episode=3\n",
    "\t)\n",
    "\t# tuple tipinde çevirmeli\n",
    "\treturn (individualEpisodeRewards, )"
   ]
  },
  {
   "cell_type": "code",
   "execution_count": 10,
   "metadata": {},
   "outputs": [],
   "source": [
    "# Uygunluk fonksiyonunu kaydet\n",
    "toolbox.register(\"evaluate\", calculateFitness)\n",
    "\n",
    "# Hangi çaprazlama, mutasyon ve seçilim yöntemlerinin kullanılacağını tanımla\n",
    "toolbox.register(\"mate\", tools.cxUniform, indpb=0.50)\n",
    "toolbox.register(\"mutate\", tools.mutGaussian, mu=0, sigma=1, indpb=0.05)\n",
    "toolbox.register(\"select\", tools.selTournament, tournsize=selectionTournamentSize)"
   ]
  },
  {
   "cell_type": "markdown",
   "metadata": {},
   "source": [
    "#### Popülasyonu oluştur"
   ]
  },
  {
   "cell_type": "code",
   "execution_count": 11,
   "metadata": {},
   "outputs": [],
   "source": [
    "population = toolbox.population(n=n_population)\n",
    "hallOfFame = tools.HallOfFame(1)"
   ]
  },
  {
   "cell_type": "markdown",
   "metadata": {},
   "source": [
    "#### Log'lara uygunluk istatistiğini ekle"
   ]
  },
  {
   "cell_type": "code",
   "execution_count": 12,
   "metadata": {},
   "outputs": [],
   "source": [
    "stats = tools.Statistics(lambda ind: ind.fitness.values[0])\n",
    "stats.register(\"avg\", np.mean, axis=0)\n",
    "stats.register(\"std\", np.std, axis=0)\n",
    "stats.register(\"min\", np.min, axis=0)\n",
    "stats.register(\"max\", np.max, axis=0)"
   ]
  },
  {
   "cell_type": "markdown",
   "metadata": {},
   "source": [
    "#### GA simülasyonu öncesi rastgele bir bireyle ortamı çalıştır"
   ]
  },
  {
   "cell_type": "code",
   "execution_count": 13,
   "metadata": {},
   "outputs": [
    {
     "data": {
      "text/plain": [
       "153.0"
      ]
     },
     "execution_count": 13,
     "metadata": {},
     "output_type": "execute_result"
    }
   ],
   "source": [
    "run_env(\n",
    "\tact_fn=(lambda state: nn_forward(\n",
    "\t\trandom.choice(population),\n",
    "\t\tstate\n",
    "\t)),\n",
    "\tn_episode=10,\n",
    "\trender=True\n",
    ")"
   ]
  },
  {
   "cell_type": "markdown",
   "metadata": {},
   "source": [
    "## Simülasyon başlasın!"
   ]
  },
  {
   "cell_type": "code",
   "execution_count": 14,
   "metadata": {},
   "outputs": [
    {
     "name": "stdout",
     "output_type": "stream",
     "text": [
      "gen\tnevals\tavg    \tstd    \tmin\tmax\n",
      "0  \t32    \t38.5625\t48.7846\t26 \t306\n",
      "1  \t15    \t62.0938\t81.4146\t26 \t306\n",
      "2  \t17    \t115.875\t109.795\t26 \t306\n",
      "3  \t14    \t205.688\t104.716\t25 \t311\n",
      "4  \t15    \t295.875\t26.0369\t232\t321\n",
      "5  \t17    \t335.688\t241.32 \t34 \t1500\n",
      "6  \t22    \t522.188\t401.785\t232\t1500\n",
      "7  \t20    \t842.562\t554.654\t172\t1500\n",
      "8  \t19    \t1267.78\t438.388\t90 \t1500\n",
      "9  \t13    \t1394.56\t338.727\t30 \t1500\n",
      "10 \t22    \t1424.03\t301.079\t29 \t1500\n",
      "11 \t15    \t1410.03\t348.542\t28 \t1500\n",
      "12 \t19    \t1411.91\t329.439\t26 \t1500\n",
      "13 \t17    \t1393.09\t360.564\t28 \t1500\n",
      "14 \t21    \t1376.84\t388.998\t26 \t1500\n",
      "15 \t16    \t1316.88\t484.528\t27 \t1500\n",
      "16 \t19    \t1455.75\t246.374\t84 \t1500\n",
      "17 \t19    \t1463.66\t202.353\t337\t1500\n",
      "18 \t16    \t1498.31\t9.3956 \t1446\t1500\n",
      "19 \t16    \t1454.03\t255.943\t29  \t1500\n",
      "20 \t12    \t1410.34\t347.344\t31  \t1500\n",
      "21 \t18    \t1454.12\t255.421\t32  \t1500\n",
      "22 \t14    \t1449   \t256.412\t30  \t1500\n",
      "23 \t17    \t1437.97\t268.27 \t30  \t1500\n",
      "24 \t12    \t1495.72\t23.837 \t1363\t1500\n",
      "25 \t20    \t1364.03\t422.777\t26  \t1500\n"
     ]
    }
   ],
   "source": [
    "finalPopulation, logs = algorithms.eaSimple(\n",
    "\tpopulation=population,\n",
    "\ttoolbox=toolbox,\n",
    "\thalloffame=hallOfFame,\n",
    "\tstats=stats,\n",
    "\tngen=n_generation,\n",
    "\tcxpb=crossingoverProbability,\n",
    "\tmutpb=mutationProbability,\n",
    "\tverbose=True\n",
    ")"
   ]
  },
  {
   "cell_type": "markdown",
   "metadata": {},
   "source": [
    "### En iyi bireyle simülasyonu çalıştır"
   ]
  },
  {
   "cell_type": "code",
   "execution_count": 15,
   "metadata": {
    "scrolled": true
   },
   "outputs": [
    {
     "name": "stdout",
     "output_type": "stream",
     "text": [
      "[+] En iyi uygunluk değeri: 1500.0\n",
      "Genotip:  [0.09109158780977948, -0.29858014725238036, 0.6294105328746935, 0.1568631379018537, -0.1883482020339822, 2.2327974225272604, 1.3995720972839263, -0.35413810557596687, 2.4397432302727893, -1.0072705401817257, 0.34210371400769113, 1.0625560697954215, -0.494609903815069, 1.261881277227563, 0.9149917505737201, -0.530551516345594, -0.7103199483218117, 0.636496255526635, 1.493047161102028, -0.5633082001651568, 0.2945375654918546, 0.6842303871897123, -0.6382357447422995, -0.49009917221582416, -1.8098453746951857, 2.135655485733688, -0.0514269505998888, -0.5857764586617262, -0.3675898384451499, 0.4683190083160991, -0.846697382197066, 0.336550613060773, -1.1106473613436048, -0.5275102000580876, -0.2960636571308189, 0.0943059166064184, 0.738881451455288, -0.3359748190757696, 0.4248690321812363, -0.22611891206490897, -0.288596426653344, 0.5472552521504789, 0.3302625278313965, -0.03737743806714264, 0.7967697710010319, 0.6047836341446641, -0.4347611854860321, 1.767524621070387, 0.7704823709520862, 0.09389885757434752]\n"
     ]
    }
   ],
   "source": [
    "best = hallOfFame[0]\n",
    "print(\"[+] En iyi uygunluk değeri: {}\".format(best.fitness.values[0]))\n",
    "print(\"Genotip: \", best)\n",
    "\n",
    "run_env(\n",
    "\tact_fn=(lambda state: nn_forward(best, state)),\n",
    "\tn_episode=5,\n",
    "\trender=True\n",
    ")\n",
    "env.close()"
   ]
  }
 ],
 "metadata": {
  "kernelspec": {
   "display_name": "Python 3",
   "language": "python",
   "name": "python3"
  },
  "language_info": {
   "codemirror_mode": {
    "name": "ipython",
    "version": 3
   },
   "file_extension": ".py",
   "mimetype": "text/x-python",
   "name": "python",
   "nbconvert_exporter": "python",
   "pygments_lexer": "ipython3",
   "version": "3.8.5"
  }
 },
 "nbformat": 4,
 "nbformat_minor": 4
}
